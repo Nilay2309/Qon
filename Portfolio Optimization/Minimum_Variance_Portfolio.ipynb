{
  "nbformat": 4,
  "nbformat_minor": 0,
  "metadata": {
    "colab": {
      "name": "Minimum Variance Portfolio.ipynb",
      "provenance": [],
      "toc_visible": true
    },
    "kernelspec": {
      "name": "python3",
      "display_name": "Python 3"
    }
  },
  "cells": [
    {
      "cell_type": "markdown",
      "metadata": {
        "id": "vRBSHAyE2huk"
      },
      "source": [
        "# **Libraries**"
      ]
    },
    {
      "cell_type": "code",
      "metadata": {
        "id": "HmcEv3Uio5cb"
      },
      "source": [
        "import numpy as np\n",
        "import pandas as pd\n",
        "import matplotlib.pyplot as plt\n",
        "import seaborn as sns"
      ],
      "execution_count": null,
      "outputs": []
    },
    {
      "cell_type": "code",
      "metadata": {
        "id": "-QPUw7MU0W7r"
      },
      "source": [
        "%matplotlib inline"
      ],
      "execution_count": null,
      "outputs": []
    },
    {
      "cell_type": "markdown",
      "metadata": {
        "id": "UJP4X76h2m0C"
      },
      "source": [
        "# **Import**"
      ]
    },
    {
      "cell_type": "code",
      "metadata": {
        "id": "TA4B9dHqv0ov"
      },
      "source": [
        "train_df1 = pd.read_csv('/content/Quote-Equity-CIPLA-EQ-01-04-2015-to-31-03-2017.csv', index_col = 0)\n",
        "train_df1.index.name = None\n",
        "train_df1 = train_df1['close ']\n",
        "train_df1.name = 'cipla'"
      ],
      "execution_count": null,
      "outputs": []
    },
    {
      "cell_type": "code",
      "metadata": {
        "id": "x8FxS5PDxd2U"
      },
      "source": [
        "train_df2 = pd.read_csv('/content/Quote-Equity-HDFCBANK-EQ-01-04-2015-to-31-03-2017.csv', index_col = 0)\n",
        "train_df2.index.name = None\n",
        "train_df2 = train_df2['close ']\n",
        "train_df2.name = 'hdfc'"
      ],
      "execution_count": null,
      "outputs": []
    },
    {
      "cell_type": "code",
      "metadata": {
        "id": "mELgvJl0xrir",
        "colab": {
          "base_uri": "https://localhost:8080/",
          "height": 52
        },
        "outputId": "17bb093f-7a2e-43e1-aa53-19de8a84bfec"
      },
      "source": [
        "'''\n",
        "train_df3 = pd.read_csv('/content/Quote-Equity-INFY-EQ-01-04-2015-to-31-03-2017.csv', index_col = 0)\n",
        "train_df3.index.name = None\n",
        "train_df3 = train_df3['close ']\n",
        "train_df3.name = 'infosys'\n",
        "'''"
      ],
      "execution_count": null,
      "outputs": [
        {
          "output_type": "execute_result",
          "data": {
            "application/vnd.google.colaboratory.intrinsic+json": {
              "type": "string"
            },
            "text/plain": [
              "\"\\ntrain_df3 = pd.read_csv('/content/Quote-Equity-INFY-EQ-01-04-2015-to-31-03-2017.csv', index_col = 0)\\ntrain_df3.index.name = None\\ntrain_df3 = train_df3['close ']\\ntrain_df3.name = 'infosys'\\n\""
            ]
          },
          "metadata": {
            "tags": []
          },
          "execution_count": 150
        }
      ]
    },
    {
      "cell_type": "code",
      "metadata": {
        "id": "7xG8DJP4xzfC"
      },
      "source": [
        "train_df4 = pd.read_csv('/content/Quote-Equity-RELIANCE-EQ-01-04-2015-to-31-03-2017.csv', index_col = 0)\n",
        "train_df4.index.name = None\n",
        "train_df4 = train_df4['close ']\n",
        "train_df4.name = 'reliance'"
      ],
      "execution_count": null,
      "outputs": []
    },
    {
      "cell_type": "code",
      "metadata": {
        "id": "BRlqW8DjxzvK"
      },
      "source": [
        "train_df5 = pd.read_csv('/content/Quote-Equity-TATAMOTORS-EQ-01-04-2015-to-31-03-2017.csv', index_col = 0)\n",
        "train_df5.index.name = None\n",
        "train_df5 = train_df5['close ']\n",
        "train_df5.name = 'tata'"
      ],
      "execution_count": null,
      "outputs": []
    },
    {
      "cell_type": "code",
      "metadata": {
        "id": "376lKOoz18wv"
      },
      "source": [
        "train_df6 = pd.read_csv('/content/Quote-Equity-TCS-EQ-01-04-2015-to-31-03-2017.csv', index_col = 0)\n",
        "train_df6.index.name = None\n",
        "train_df6 = train_df6['close ']\n",
        "train_df6.name = 'tcs'"
      ],
      "execution_count": null,
      "outputs": []
    },
    {
      "cell_type": "code",
      "metadata": {
        "id": "qiGrzUYryUNN"
      },
      "source": [
        "test_df1 = pd.read_csv('/content/Quote-Equity-CIPLA-EQ-01-04-2017-to-31-03-2018.csv', index_col = 0)\n",
        "test_df1.index.name = None\n",
        "test_df1 = test_df1['close ']\n",
        "test_df1.name = 'cipla'"
      ],
      "execution_count": null,
      "outputs": []
    },
    {
      "cell_type": "code",
      "metadata": {
        "id": "x_2xA1-YyuNx"
      },
      "source": [
        "test_df2 = pd.read_csv('/content/Quote-Equity-HDFCBANK-EQ-01-04-2017-to-31-03-2018.csv', index_col = 0)\n",
        "test_df2.index.name = None\n",
        "test_df2 = test_df2['close ']\n",
        "test_df2.name = 'hdfc'"
      ],
      "execution_count": null,
      "outputs": []
    },
    {
      "cell_type": "code",
      "metadata": {
        "id": "V_Fqqd2VyzKj",
        "colab": {
          "base_uri": "https://localhost:8080/",
          "height": 52
        },
        "outputId": "397c8cbd-143f-431d-d237-c65b846dd2f9"
      },
      "source": [
        "'''\n",
        "test_df3 = pd.read_csv('/content/Quote-Equity-INFY-EQ-01-04-2017-to-31-03-2018.csv', index_col = 0)\n",
        "test_df3.index.name = None\n",
        "test_df3 = test_df3['close ']\n",
        "test_df3.name = 'infosys'\n",
        "'''"
      ],
      "execution_count": null,
      "outputs": [
        {
          "output_type": "execute_result",
          "data": {
            "application/vnd.google.colaboratory.intrinsic+json": {
              "type": "string"
            },
            "text/plain": [
              "\"\\ntest_df3 = pd.read_csv('/content/Quote-Equity-INFY-EQ-01-04-2017-to-31-03-2018.csv', index_col = 0)\\ntest_df3.index.name = None\\ntest_df3 = test_df3['close ']\\ntest_df3.name = 'infosys'\\n\""
            ]
          },
          "metadata": {
            "tags": []
          },
          "execution_count": 156
        }
      ]
    },
    {
      "cell_type": "code",
      "metadata": {
        "id": "CgrlhTquy0EQ"
      },
      "source": [
        "test_df4 = pd.read_csv('/content/Quote-Equity-RELIANCE-EQ-01-04-2017-to-31-03-2018.csv', index_col = 0)\n",
        "test_df4.index.name = None\n",
        "test_df4 = test_df4['close ']\n",
        "test_df4.name = 'reliance'"
      ],
      "execution_count": null,
      "outputs": []
    },
    {
      "cell_type": "code",
      "metadata": {
        "id": "nM8f36SCy0x3"
      },
      "source": [
        "test_df5 = pd.read_csv('/content/Quote-Equity-TATAMOTORS-EQ-01-04-2017-to-31-03-2018.csv', index_col = 0)\n",
        "test_df5.index.name = None\n",
        "test_df5 = test_df5['close ']\n",
        "test_df5.name = 'tata'"
      ],
      "execution_count": null,
      "outputs": []
    },
    {
      "cell_type": "code",
      "metadata": {
        "id": "RTy6PiN81uSw"
      },
      "source": [
        "test_df6 = pd.read_csv('/content/Quote-Equity-TCS-EQ-01-04-2017-to-31-03-2018.csv', index_col = 0)\n",
        "test_df6.index.name = None\n",
        "test_df6 = test_df6['close ']\n",
        "test_df6.name = 'tcs'"
      ],
      "execution_count": null,
      "outputs": []
    },
    {
      "cell_type": "code",
      "metadata": {
        "id": "eu3U0m7GzgSG"
      },
      "source": [
        "train = pd.concat([train_df1, train_df2, train_df4, train_df5, train_df6], axis = 1)"
      ],
      "execution_count": null,
      "outputs": []
    },
    {
      "cell_type": "code",
      "metadata": {
        "id": "Cdp4gJNQzxpO"
      },
      "source": [
        "test = pd.concat([test_df1, test_df2, test_df4, test_df5, test_df6], axis = 1)"
      ],
      "execution_count": null,
      "outputs": []
    },
    {
      "cell_type": "code",
      "metadata": {
        "id": "9-0XfU5Ez6ja"
      },
      "source": [
        "train.index = pd.to_datetime(train.index)"
      ],
      "execution_count": null,
      "outputs": []
    },
    {
      "cell_type": "code",
      "metadata": {
        "id": "ebCkNxdJz92S"
      },
      "source": [
        "test.index = pd.to_datetime(test.index)"
      ],
      "execution_count": null,
      "outputs": []
    },
    {
      "cell_type": "code",
      "metadata": {
        "id": "8kc07Yi50OCp"
      },
      "source": [
        "train = train.iloc[::-1]\n",
        "test = test.iloc[::-1]"
      ],
      "execution_count": null,
      "outputs": []
    },
    {
      "cell_type": "code",
      "metadata": {
        "id": "JJs1Un131qOr",
        "colab": {
          "base_uri": "https://localhost:8080/",
          "height": 218
        },
        "outputId": "034420d7-6141-49e9-926e-da6d24dd9c5b"
      },
      "source": [
        "train.info()"
      ],
      "execution_count": null,
      "outputs": [
        {
          "output_type": "stream",
          "text": [
            "<class 'pandas.core.frame.DataFrame'>\n",
            "DatetimeIndex: 495 entries, 2015-04-01 to 2017-03-31\n",
            "Data columns (total 5 columns):\n",
            " #   Column    Non-Null Count  Dtype  \n",
            "---  ------    --------------  -----  \n",
            " 0   cipla     495 non-null    float64\n",
            " 1   hdfc      495 non-null    object \n",
            " 2   reliance  495 non-null    object \n",
            " 3   tata      495 non-null    float64\n",
            " 4   tcs       495 non-null    object \n",
            "dtypes: float64(2), object(3)\n",
            "memory usage: 23.2+ KB\n"
          ],
          "name": "stdout"
        }
      ]
    },
    {
      "cell_type": "code",
      "metadata": {
        "id": "G5f6jy551vwj",
        "colab": {
          "base_uri": "https://localhost:8080/",
          "height": 195
        },
        "outputId": "0f6ec4ef-4cd5-4c2e-ea5f-2e8f6681a103"
      },
      "source": [
        "train.head()"
      ],
      "execution_count": null,
      "outputs": [
        {
          "output_type": "execute_result",
          "data": {
            "text/html": [
              "<div>\n",
              "<style scoped>\n",
              "    .dataframe tbody tr th:only-of-type {\n",
              "        vertical-align: middle;\n",
              "    }\n",
              "\n",
              "    .dataframe tbody tr th {\n",
              "        vertical-align: top;\n",
              "    }\n",
              "\n",
              "    .dataframe thead th {\n",
              "        text-align: right;\n",
              "    }\n",
              "</style>\n",
              "<table border=\"1\" class=\"dataframe\">\n",
              "  <thead>\n",
              "    <tr style=\"text-align: right;\">\n",
              "      <th></th>\n",
              "      <th>cipla</th>\n",
              "      <th>hdfc</th>\n",
              "      <th>reliance</th>\n",
              "      <th>tata</th>\n",
              "      <th>tcs</th>\n",
              "    </tr>\n",
              "  </thead>\n",
              "  <tbody>\n",
              "    <tr>\n",
              "      <th>2015-04-01</th>\n",
              "      <td>709.60</td>\n",
              "      <td>1,033.25</td>\n",
              "      <td>836.05</td>\n",
              "      <td>564.90</td>\n",
              "      <td>2,542.65</td>\n",
              "    </tr>\n",
              "    <tr>\n",
              "      <th>2015-04-06</th>\n",
              "      <td>735.65</td>\n",
              "      <td>1,031.95</td>\n",
              "      <td>824.65</td>\n",
              "      <td>568.15</td>\n",
              "      <td>2,547.30</td>\n",
              "    </tr>\n",
              "    <tr>\n",
              "      <th>2015-04-07</th>\n",
              "      <td>728.20</td>\n",
              "      <td>1,032.75</td>\n",
              "      <td>832.85</td>\n",
              "      <td>560.35</td>\n",
              "      <td>2,585.00</td>\n",
              "    </tr>\n",
              "    <tr>\n",
              "      <th>2015-04-08</th>\n",
              "      <td>736.70</td>\n",
              "      <td>1,035.55</td>\n",
              "      <td>865.90</td>\n",
              "      <td>561.50</td>\n",
              "      <td>2,641.40</td>\n",
              "    </tr>\n",
              "    <tr>\n",
              "      <th>2015-04-09</th>\n",
              "      <td>719.45</td>\n",
              "      <td>1,056.10</td>\n",
              "      <td>895.10</td>\n",
              "      <td>559.90</td>\n",
              "      <td>2,664.55</td>\n",
              "    </tr>\n",
              "  </tbody>\n",
              "</table>\n",
              "</div>"
            ],
            "text/plain": [
              "             cipla      hdfc reliance    tata       tcs\n",
              "2015-04-01  709.60  1,033.25   836.05  564.90  2,542.65\n",
              "2015-04-06  735.65  1,031.95   824.65  568.15  2,547.30\n",
              "2015-04-07  728.20  1,032.75   832.85  560.35  2,585.00\n",
              "2015-04-08  736.70  1,035.55   865.90  561.50  2,641.40\n",
              "2015-04-09  719.45  1,056.10   895.10  559.90  2,664.55"
            ]
          },
          "metadata": {
            "tags": []
          },
          "execution_count": 166
        }
      ]
    },
    {
      "cell_type": "code",
      "metadata": {
        "id": "OvMcF-Kg1L67",
        "colab": {
          "base_uri": "https://localhost:8080/",
          "height": 195
        },
        "outputId": "ff4c989d-fd9b-4259-89ea-a437bddfe857"
      },
      "source": [
        "train.tail()"
      ],
      "execution_count": null,
      "outputs": [
        {
          "output_type": "execute_result",
          "data": {
            "text/html": [
              "<div>\n",
              "<style scoped>\n",
              "    .dataframe tbody tr th:only-of-type {\n",
              "        vertical-align: middle;\n",
              "    }\n",
              "\n",
              "    .dataframe tbody tr th {\n",
              "        vertical-align: top;\n",
              "    }\n",
              "\n",
              "    .dataframe thead th {\n",
              "        text-align: right;\n",
              "    }\n",
              "</style>\n",
              "<table border=\"1\" class=\"dataframe\">\n",
              "  <thead>\n",
              "    <tr style=\"text-align: right;\">\n",
              "      <th></th>\n",
              "      <th>cipla</th>\n",
              "      <th>hdfc</th>\n",
              "      <th>reliance</th>\n",
              "      <th>tata</th>\n",
              "      <th>tcs</th>\n",
              "    </tr>\n",
              "  </thead>\n",
              "  <tbody>\n",
              "    <tr>\n",
              "      <th>2017-03-27</th>\n",
              "      <td>592.10</td>\n",
              "      <td>1,409.85</td>\n",
              "      <td>1,251.10</td>\n",
              "      <td>464.75</td>\n",
              "      <td>2,412.05</td>\n",
              "    </tr>\n",
              "    <tr>\n",
              "      <th>2017-03-28</th>\n",
              "      <td>594.15</td>\n",
              "      <td>1,420.20</td>\n",
              "      <td>1,245.75</td>\n",
              "      <td>472.40</td>\n",
              "      <td>2,429.95</td>\n",
              "    </tr>\n",
              "    <tr>\n",
              "      <th>2017-03-29</th>\n",
              "      <td>593.15</td>\n",
              "      <td>1,428.60</td>\n",
              "      <td>1,256.65</td>\n",
              "      <td>469.05</td>\n",
              "      <td>2,444.60</td>\n",
              "    </tr>\n",
              "    <tr>\n",
              "      <th>2017-03-30</th>\n",
              "      <td>598.35</td>\n",
              "      <td>1,466.20</td>\n",
              "      <td>1,270.65</td>\n",
              "      <td>468.40</td>\n",
              "      <td>2,441.00</td>\n",
              "    </tr>\n",
              "    <tr>\n",
              "      <th>2017-03-31</th>\n",
              "      <td>592.95</td>\n",
              "      <td>1,442.55</td>\n",
              "      <td>1,320.90</td>\n",
              "      <td>465.85</td>\n",
              "      <td>2,431.80</td>\n",
              "    </tr>\n",
              "  </tbody>\n",
              "</table>\n",
              "</div>"
            ],
            "text/plain": [
              "             cipla      hdfc  reliance    tata       tcs\n",
              "2017-03-27  592.10  1,409.85  1,251.10  464.75  2,412.05\n",
              "2017-03-28  594.15  1,420.20  1,245.75  472.40  2,429.95\n",
              "2017-03-29  593.15  1,428.60  1,256.65  469.05  2,444.60\n",
              "2017-03-30  598.35  1,466.20  1,270.65  468.40  2,441.00\n",
              "2017-03-31  592.95  1,442.55  1,320.90  465.85  2,431.80"
            ]
          },
          "metadata": {
            "tags": []
          },
          "execution_count": 167
        }
      ]
    },
    {
      "cell_type": "code",
      "metadata": {
        "id": "GeKSY9OQ0Wkv"
      },
      "source": [
        "train.hdfc = train.hdfc.str.replace(',', '').astype('float')\n",
        "#train.infosys = train.infosys.str.replace(',', '').astype('float')\n",
        "train.reliance = train.reliance.str.replace(',', '').astype('float')\n",
        "train.tcs = train.tcs.str.replace(',', '').astype('float')"
      ],
      "execution_count": null,
      "outputs": []
    },
    {
      "cell_type": "code",
      "metadata": {
        "id": "2tU391CY0pNY"
      },
      "source": [
        "test.hdfc = test.hdfc.str.replace(',', '').astype('float')\n",
        "#test.infosys = test.infosys.str.replace(',', '').astype('float')\n",
        "test.reliance = test.reliance.str.replace(',', '').astype('float')\n",
        "test.tcs = test.tcs.str.replace(',', '').astype('float')"
      ],
      "execution_count": null,
      "outputs": []
    },
    {
      "cell_type": "code",
      "metadata": {
        "id": "L4wTsP4x2Qoj",
        "colab": {
          "base_uri": "https://localhost:8080/",
          "height": 218
        },
        "outputId": "28aa2f17-44e9-47ac-8416-f1e0226d28c4"
      },
      "source": [
        "train.info()"
      ],
      "execution_count": null,
      "outputs": [
        {
          "output_type": "stream",
          "text": [
            "<class 'pandas.core.frame.DataFrame'>\n",
            "DatetimeIndex: 495 entries, 2015-04-01 to 2017-03-31\n",
            "Data columns (total 5 columns):\n",
            " #   Column    Non-Null Count  Dtype  \n",
            "---  ------    --------------  -----  \n",
            " 0   cipla     495 non-null    float64\n",
            " 1   hdfc      495 non-null    float64\n",
            " 2   reliance  495 non-null    float64\n",
            " 3   tata      495 non-null    float64\n",
            " 4   tcs       495 non-null    float64\n",
            "dtypes: float64(5)\n",
            "memory usage: 23.2 KB\n"
          ],
          "name": "stdout"
        }
      ]
    },
    {
      "cell_type": "code",
      "metadata": {
        "id": "MRFmSA7F2Swl"
      },
      "source": [
        "returns_train = train.pct_change()[1:]\n",
        "returns_test = test.pct_change()[1:]"
      ],
      "execution_count": null,
      "outputs": []
    },
    {
      "cell_type": "code",
      "metadata": {
        "id": "79nNtpuL2fU_",
        "colab": {
          "base_uri": "https://localhost:8080/",
          "height": 118
        },
        "outputId": "7e263eef-ed23-43e7-db6c-ad2c4c16fde5"
      },
      "source": [
        "train_mean = returns_train.mean()*252\n",
        "train_mean"
      ],
      "execution_count": null,
      "outputs": [
        {
          "output_type": "execute_result",
          "data": {
            "text/plain": [
              "cipla      -0.058928\n",
              "hdfc        0.183383\n",
              "reliance    0.265684\n",
              "tata       -0.023680\n",
              "tcs         0.000956\n",
              "dtype: float64"
            ]
          },
          "metadata": {
            "tags": []
          },
          "execution_count": 172
        }
      ]
    },
    {
      "cell_type": "code",
      "metadata": {
        "id": "MGaT8UdXd573"
      },
      "source": [
        "m = train_mean.values.reshape(1, len(train_mean))"
      ],
      "execution_count": null,
      "outputs": []
    },
    {
      "cell_type": "code",
      "metadata": {
        "id": "Z17yhkc57NDe",
        "colab": {
          "base_uri": "https://localhost:8080/",
          "height": 195
        },
        "outputId": "005948d4-f906-4343-db9f-694c5d09a543"
      },
      "source": [
        "train_cov = returns_train.cov()*252\n",
        "train_cov"
      ],
      "execution_count": null,
      "outputs": [
        {
          "output_type": "execute_result",
          "data": {
            "text/html": [
              "<div>\n",
              "<style scoped>\n",
              "    .dataframe tbody tr th:only-of-type {\n",
              "        vertical-align: middle;\n",
              "    }\n",
              "\n",
              "    .dataframe tbody tr th {\n",
              "        vertical-align: top;\n",
              "    }\n",
              "\n",
              "    .dataframe thead th {\n",
              "        text-align: right;\n",
              "    }\n",
              "</style>\n",
              "<table border=\"1\" class=\"dataframe\">\n",
              "  <thead>\n",
              "    <tr style=\"text-align: right;\">\n",
              "      <th></th>\n",
              "      <th>cipla</th>\n",
              "      <th>hdfc</th>\n",
              "      <th>reliance</th>\n",
              "      <th>tata</th>\n",
              "      <th>tcs</th>\n",
              "    </tr>\n",
              "  </thead>\n",
              "  <tbody>\n",
              "    <tr>\n",
              "      <th>cipla</th>\n",
              "      <td>0.065388</td>\n",
              "      <td>0.015322</td>\n",
              "      <td>0.018361</td>\n",
              "      <td>0.020130</td>\n",
              "      <td>0.004800</td>\n",
              "    </tr>\n",
              "    <tr>\n",
              "      <th>hdfc</th>\n",
              "      <td>0.015322</td>\n",
              "      <td>0.026275</td>\n",
              "      <td>0.016998</td>\n",
              "      <td>0.022122</td>\n",
              "      <td>0.009473</td>\n",
              "    </tr>\n",
              "    <tr>\n",
              "      <th>reliance</th>\n",
              "      <td>0.018361</td>\n",
              "      <td>0.016998</td>\n",
              "      <td>0.064888</td>\n",
              "      <td>0.032311</td>\n",
              "      <td>0.008440</td>\n",
              "    </tr>\n",
              "    <tr>\n",
              "      <th>tata</th>\n",
              "      <td>0.020130</td>\n",
              "      <td>0.022122</td>\n",
              "      <td>0.032311</td>\n",
              "      <td>0.149265</td>\n",
              "      <td>0.015070</td>\n",
              "    </tr>\n",
              "    <tr>\n",
              "      <th>tcs</th>\n",
              "      <td>0.004800</td>\n",
              "      <td>0.009473</td>\n",
              "      <td>0.008440</td>\n",
              "      <td>0.015070</td>\n",
              "      <td>0.047367</td>\n",
              "    </tr>\n",
              "  </tbody>\n",
              "</table>\n",
              "</div>"
            ],
            "text/plain": [
              "             cipla      hdfc  reliance      tata       tcs\n",
              "cipla     0.065388  0.015322  0.018361  0.020130  0.004800\n",
              "hdfc      0.015322  0.026275  0.016998  0.022122  0.009473\n",
              "reliance  0.018361  0.016998  0.064888  0.032311  0.008440\n",
              "tata      0.020130  0.022122  0.032311  0.149265  0.015070\n",
              "tcs       0.004800  0.009473  0.008440  0.015070  0.047367"
            ]
          },
          "metadata": {
            "tags": []
          },
          "execution_count": 174
        }
      ]
    },
    {
      "cell_type": "code",
      "metadata": {
        "id": "rTGYJdaheDnn"
      },
      "source": [
        "c = train_cov.values"
      ],
      "execution_count": null,
      "outputs": []
    },
    {
      "cell_type": "markdown",
      "metadata": {
        "id": "Q-002cODbLOD"
      },
      "source": [
        "**Constraint**"
      ]
    },
    {
      "cell_type": "code",
      "metadata": {
        "id": "C8qfZLjGbOZ-"
      },
      "source": [
        "rf = 0.0001"
      ],
      "execution_count": null,
      "outputs": []
    },
    {
      "cell_type": "markdown",
      "metadata": {
        "id": "wj9jxYBjf7V1"
      },
      "source": [
        "# **Portfolio**"
      ]
    },
    {
      "cell_type": "code",
      "metadata": {
        "id": "y3q0XFhw_ZAp"
      },
      "source": [
        "num_portfolios = 25000"
      ],
      "execution_count": null,
      "outputs": []
    },
    {
      "cell_type": "code",
      "metadata": {
        "id": "LvwUQwOYkyCY"
      },
      "source": [
        "result = np.zeros((num_portfolios, 2))"
      ],
      "execution_count": null,
      "outputs": []
    },
    {
      "cell_type": "code",
      "metadata": {
        "id": "XfAQtWcugDii"
      },
      "source": [
        "for i in range(num_portfolios):\n",
        "  weights = np.random.random(returns_train.shape[1])\n",
        "  weights = weights/np.sum(weights)\n",
        "  portfolio_return = np.sum(weights*train_mean)\n",
        "  portfolio_std = np.sqrt(np.dot(weights, np.dot(train_cov, weights.T)))\n",
        "  result[i][0] = portfolio_return\n",
        "  result[i][1] = portfolio_std"
      ],
      "execution_count": null,
      "outputs": []
    },
    {
      "cell_type": "code",
      "metadata": {
        "id": "Z30tPZoGoEAr"
      },
      "source": [
        "result = pd.DataFrame(result, columns = ['ret', 'stdev'])"
      ],
      "execution_count": null,
      "outputs": []
    },
    {
      "cell_type": "markdown",
      "metadata": {
        "id": "1jRhkp-JcRWT"
      },
      "source": [
        "**Minimum Variance Portfolio**"
      ]
    },
    {
      "cell_type": "code",
      "metadata": {
        "id": "YjKx8nKGqUsz"
      },
      "source": [
        "u = np.ones((1, returns_train.shape[1]))"
      ],
      "execution_count": null,
      "outputs": []
    },
    {
      "cell_type": "code",
      "metadata": {
        "id": "RW-xC9worYCP"
      },
      "source": [
        "w = np.dot(u, np.linalg.inv(train_cov))"
      ],
      "execution_count": null,
      "outputs": []
    },
    {
      "cell_type": "code",
      "metadata": {
        "id": "ab4NpqQcr66O"
      },
      "source": [
        "w = w/np.dot(u, np.dot(np.linalg.inv(train_cov), u.T))"
      ],
      "execution_count": null,
      "outputs": []
    },
    {
      "cell_type": "code",
      "metadata": {
        "id": "K91Vjxp3sHqn"
      },
      "source": [
        "w = w.reshape(w.shape[1])"
      ],
      "execution_count": null,
      "outputs": []
    },
    {
      "cell_type": "code",
      "metadata": {
        "id": "FtGb1P0Yt6oN",
        "colab": {
          "base_uri": "https://localhost:8080/",
          "height": 34
        },
        "outputId": "8f93a099-a2e4-4773-f505-9af5feb593d5"
      },
      "source": [
        "w"
      ],
      "execution_count": null,
      "outputs": [
        {
          "output_type": "execute_result",
          "data": {
            "text/plain": [
              "array([ 0.13289149,  0.50264504,  0.09766188, -0.01267273,  0.27947431])"
            ]
          },
          "metadata": {
            "tags": []
          },
          "execution_count": 232
        }
      ]
    },
    {
      "cell_type": "code",
      "metadata": {
        "id": "JhCqhuc2ugzV"
      },
      "source": [
        "exp = np.sum(w*train_mean)"
      ],
      "execution_count": null,
      "outputs": []
    },
    {
      "cell_type": "code",
      "metadata": {
        "id": "9q7Wct8KvBw_"
      },
      "source": [
        "var = np.sqrt(np.dot(w.T,np.dot(train_cov, w)))"
      ],
      "execution_count": null,
      "outputs": []
    },
    {
      "cell_type": "markdown",
      "metadata": {
        "id": "2p3yLFiicdD0"
      },
      "source": [
        "**Market Portfolio**"
      ]
    },
    {
      "cell_type": "code",
      "metadata": {
        "id": "-9duD1TkcgN0"
      },
      "source": [
        "gamma = np.sum(np.dot((m - rf*u), np.linalg.inv(train_cov)))"
      ],
      "execution_count": null,
      "outputs": []
    },
    {
      "cell_type": "code",
      "metadata": {
        "id": "_Ee2wg6udvrK"
      },
      "source": [
        "w  = np.dot((m - rf*u), np.linalg.inv(train_cov))/gamma"
      ],
      "execution_count": null,
      "outputs": []
    },
    {
      "cell_type": "code",
      "metadata": {
        "id": "9kb2I3ZeeVbY",
        "colab": {
          "base_uri": "https://localhost:8080/",
          "height": 34
        },
        "outputId": "783a7ca8-3623-4ac7-db9e-1c348d187030"
      },
      "source": [
        "w"
      ],
      "execution_count": null,
      "outputs": [
        {
          "output_type": "execute_result",
          "data": {
            "text/plain": [
              "array([[-0.57870748,  1.44846079,  0.67112112, -0.28365741, -0.25721702]])"
            ]
          },
          "metadata": {
            "tags": []
          },
          "execution_count": 237
        }
      ]
    },
    {
      "cell_type": "code",
      "metadata": {
        "id": "LQhai_I3ebbA"
      },
      "source": [
        "market_ret = np.sum(w*m)"
      ],
      "execution_count": null,
      "outputs": []
    },
    {
      "cell_type": "code",
      "metadata": {
        "id": "zres_wrDebvc"
      },
      "source": [
        "market_risk = np.sqrt(np.dot(w, np.dot(train_cov, w.T)))"
      ],
      "execution_count": null,
      "outputs": []
    },
    {
      "cell_type": "markdown",
      "metadata": {
        "id": "8QABh9mxcXpy"
      },
      "source": [
        "**Plot**"
      ]
    },
    {
      "cell_type": "code",
      "metadata": {
        "id": "G05ODZPfilXy",
        "colab": {
          "base_uri": "https://localhost:8080/",
          "height": 296
        },
        "outputId": "6e78ff6d-f854-4bef-8396-f8affcf6e44a"
      },
      "source": [
        "sns.scatterplot(x = 'stdev', y = 'ret', data = result, alpha = 0.5, color = 'orange')\n",
        "plt.scatter(var, exp, marker = (5, 1, 0), color = 'r', s = 400, label = 'MVP')\n",
        "plt.scatter(0, rf, marker = (5, 1, 0), color = 'b', s = 400, label = 'Risk Free Return')\n",
        "plt.scatter(market_risk, market_ret, marker = (5, 1, 0), color = 'g', s = 400, label = 'Market Portfolio')\n",
        "plt.legend()"
      ],
      "execution_count": null,
      "outputs": [
        {
          "output_type": "execute_result",
          "data": {
            "text/plain": [
              "<matplotlib.legend.Legend at 0x7f9d939015c0>"
            ]
          },
          "metadata": {
            "tags": []
          },
          "execution_count": 240
        },
        {
          "output_type": "display_data",
          "data": {
            "image/png": "[encoded data removed]",
            "text/plain": [
              "<Figure size 432x288 with 1 Axes>"
            ]
          },
          "metadata": {
            "tags": [],
            "needs_background": "light"
          }
        }
      ]
    },
    {
      "cell_type": "code",
      "metadata": {
        "id": "r2T5ZphUi1xE",
        "colab": {
          "base_uri": "https://localhost:8080/",
          "height": 286
        },
        "outputId": "1d77ac2e-f8dd-409c-bc4a-2060de71cd1c"
      },
      "source": [
        "\n",
        "results = np.zeros((3,num_portfolios))\n",
        "for i in range(num_portfolios):\n",
        "    #select random weights for portfolio holdings\n",
        "    weights = np.random.random(5)\n",
        "    #rebalance weights to sum to 1\n",
        "    weights /= np.sum(weights)\n",
        "    \n",
        "    #calculate portfolio return and volatility\n",
        "    portfolio_return = np.sum(train_mean * weights)\n",
        "    portfolio_std_dev = np.sqrt(np.dot(weights.T,np.dot(train_cov, weights)))\n",
        "    \n",
        "    #store results in results array\n",
        "    results[0,i] = portfolio_return\n",
        "    results[1,i] = portfolio_std_dev\n",
        "    #store Sharpe Ratio (return / volatility) - risk free rate element excluded for simplicity\n",
        "    results[2,i] = results[0,i] / results[1,i]\n",
        "#convert results array to Pandas DataFrame\n",
        "results_frame = pd.DataFrame(results.T,columns=['ret','stdev','sharpe'])\n",
        "#create scatter plot coloured by Sharpe Ratio\n",
        "plt.scatter(results_frame.stdev,results_frame.ret,c=results_frame.sharpe,cmap='RdYlBu')\n",
        "plt.scatter(var, exp,marker=(5,1,0),color='r',s=1000, label = 'MVP')\n",
        "plt.colorbar()\n",
        "plt.legend()\n"
      ],
      "execution_count": null,
      "outputs": [
        {
          "output_type": "execute_result",
          "data": {
            "text/plain": [
              "<matplotlib.legend.Legend at 0x7f9d93bf8f98>"
            ]
          },
          "metadata": {
            "tags": []
          },
          "execution_count": 194
        },
        {
          "output_type": "display_data",
          "data": {
            "image/png": "[encoded data removed]",
            "text/plain": [
              "<Figure size 432x288 with 2 Axes>"
            ]
          },
          "metadata": {
            "tags": [],
            "needs_background": "light"
          }
        }
      ]
    },
    {
      "cell_type": "markdown",
      "metadata": {
        "id": "iiwjhH6uN-n7"
      },
      "source": [
        "# **Questions**"
      ]
    },
    {
      "cell_type": "markdown",
      "metadata": {
        "id": "sUnKi0S0OCvq"
      },
      "source": [
        "**1. How did you choose the stocks?**"
      ]
    },
    {
      "cell_type": "markdown",
      "metadata": {
        "id": "kLK1juQpOLDF"
      },
      "source": [
        "The stocks were chosen such that the portfolio created could have minimum variance. So for this stocks were chosen from different sectors so that if one sector is down at a time it could be cover up by stocks of other sectors and thus minimizing the risk "
      ]
    },
    {
      "cell_type": "markdown",
      "metadata": {
        "id": "IAIBo94jOjZi"
      },
      "source": [
        "**2. What is the impact of increasing the number of stocks in the portfolio?**"
      ]
    },
    {
      "cell_type": "markdown",
      "metadata": {
        "id": "2WgE4yHNPLCL"
      },
      "source": [
        "Increasing the number of stocks with proper diversification can help in reducing the overall risk of the portfolio but this is only upto a certain number of stocks.\n",
        "\n",
        "It has been found that exceeding 20 stocks in a portfolio has very less risk reduction thereafter\n",
        "\n",
        "Therefore, optimally the number of stocks in a portfolio should be less than 20 "
      ]
    },
    {
      "cell_type": "markdown",
      "metadata": {
        "id": "vtavWwbyQFjH"
      },
      "source": [
        "**3. Why are calculating the weights by optimization and not giving equal weightage to every stock?**"
      ]
    },
    {
      "cell_type": "markdown",
      "metadata": {
        "id": "0Cu-u11eQNcP"
      },
      "source": [
        "Giving equal weightage or random weights to the stock in the portfolio may be very risky and will not maximize our return that we could have get by calculating the weights by optimization\n",
        "\n",
        "It can be clearly seen from the graph that only those weights are good which are giving maximum return at a given risk (std).\n",
        "\n",
        "Thus it is logical to have an efficient portfolio rather than equal weights or random initialised weights"
      ]
    },
    {
      "cell_type": "markdown",
      "metadata": {
        "id": "zGtWBf8vW2UR"
      },
      "source": [
        "**4. Which optimization techniques are used by Mutual Funds currently**"
      ]
    },
    {
      "cell_type": "markdown",
      "metadata": {
        "id": "P9ChTmB4W61h"
      },
      "source": [
        "The mean variance optimization technique is currently used by mutual funds"
      ]
    },
    {
      "cell_type": "markdown",
      "metadata": {
        "id": "s6qFWiVYXCvZ"
      },
      "source": [
        "**5. Which parameters are you using to check the accuracy of your model**"
      ]
    },
    {
      "cell_type": "markdown",
      "metadata": {
        "id": "70ZlJHRZXSBf"
      },
      "source": [
        "We could check the accuracy of the model by comparing it with\n",
        "the market returns for the given time."
      ]
    },
    {
      "cell_type": "code",
      "metadata": {
        "id": "KVWcuFpPXpfs"
      },
      "source": [
        ""
      ],
      "execution_count": null,
      "outputs": []
    }
  ]
}